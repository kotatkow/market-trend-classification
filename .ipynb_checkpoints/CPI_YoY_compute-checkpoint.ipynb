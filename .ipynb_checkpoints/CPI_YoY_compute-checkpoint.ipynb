{
 "cells": [
  {
   "cell_type": "code",
   "execution_count": 1,
   "id": "214f9e86-2036-4b71-9db6-59e3dac41722",
   "metadata": {},
   "outputs": [
    {
     "ename": "ValueError",
     "evalue": "Bad Request.  The value for variable api_key is not a 32 character alpha-numeric lower-case string.  Read https://fred.stlouisfed.org/docs/api/api_key.html for more information.",
     "output_type": "error",
     "traceback": [
      "\u001b[31m---------------------------------------------------------------------------\u001b[39m",
      "\u001b[31mHTTPError\u001b[39m                                 Traceback (most recent call last)",
      "\u001b[36mFile \u001b[39m\u001b[32m~\\anaconda3\\envs\\econ_trend\\Lib\\site-packages\\fredapi\\fred.py:84\u001b[39m, in \u001b[36mFred.__fetch_data\u001b[39m\u001b[34m(self, url)\u001b[39m\n\u001b[32m     83\u001b[39m \u001b[38;5;28;01mtry\u001b[39;00m:\n\u001b[32m---> \u001b[39m\u001b[32m84\u001b[39m     response = urlopen(url)\n\u001b[32m     85\u001b[39m     root = ET.fromstring(response.read())\n",
      "\u001b[36mFile \u001b[39m\u001b[32m~\\anaconda3\\envs\\econ_trend\\Lib\\urllib\\request.py:216\u001b[39m, in \u001b[36murlopen\u001b[39m\u001b[34m(url, data, timeout, cafile, capath, cadefault, context)\u001b[39m\n\u001b[32m    215\u001b[39m     opener = _opener\n\u001b[32m--> \u001b[39m\u001b[32m216\u001b[39m \u001b[38;5;28;01mreturn\u001b[39;00m opener.open(url, data, timeout)\n",
      "\u001b[36mFile \u001b[39m\u001b[32m~\\anaconda3\\envs\\econ_trend\\Lib\\urllib\\request.py:525\u001b[39m, in \u001b[36mOpenerDirector.open\u001b[39m\u001b[34m(self, fullurl, data, timeout)\u001b[39m\n\u001b[32m    524\u001b[39m     meth = \u001b[38;5;28mgetattr\u001b[39m(processor, meth_name)\n\u001b[32m--> \u001b[39m\u001b[32m525\u001b[39m     response = meth(req, response)\n\u001b[32m    527\u001b[39m \u001b[38;5;28;01mreturn\u001b[39;00m response\n",
      "\u001b[36mFile \u001b[39m\u001b[32m~\\anaconda3\\envs\\econ_trend\\Lib\\urllib\\request.py:634\u001b[39m, in \u001b[36mHTTPErrorProcessor.http_response\u001b[39m\u001b[34m(self, request, response)\u001b[39m\n\u001b[32m    633\u001b[39m \u001b[38;5;28;01mif\u001b[39;00m \u001b[38;5;129;01mnot\u001b[39;00m (\u001b[32m200\u001b[39m <= code < \u001b[32m300\u001b[39m):\n\u001b[32m--> \u001b[39m\u001b[32m634\u001b[39m     response = \u001b[38;5;28mself\u001b[39m.parent.error(\n\u001b[32m    635\u001b[39m         \u001b[33m'\u001b[39m\u001b[33mhttp\u001b[39m\u001b[33m'\u001b[39m, request, response, code, msg, hdrs)\n\u001b[32m    637\u001b[39m \u001b[38;5;28;01mreturn\u001b[39;00m response\n",
      "\u001b[36mFile \u001b[39m\u001b[32m~\\anaconda3\\envs\\econ_trend\\Lib\\urllib\\request.py:563\u001b[39m, in \u001b[36mOpenerDirector.error\u001b[39m\u001b[34m(self, proto, *args)\u001b[39m\n\u001b[32m    562\u001b[39m args = (\u001b[38;5;28mdict\u001b[39m, \u001b[33m'\u001b[39m\u001b[33mdefault\u001b[39m\u001b[33m'\u001b[39m, \u001b[33m'\u001b[39m\u001b[33mhttp_error_default\u001b[39m\u001b[33m'\u001b[39m) + orig_args\n\u001b[32m--> \u001b[39m\u001b[32m563\u001b[39m \u001b[38;5;28;01mreturn\u001b[39;00m \u001b[38;5;28mself\u001b[39m._call_chain(*args)\n",
      "\u001b[36mFile \u001b[39m\u001b[32m~\\anaconda3\\envs\\econ_trend\\Lib\\urllib\\request.py:496\u001b[39m, in \u001b[36mOpenerDirector._call_chain\u001b[39m\u001b[34m(self, chain, kind, meth_name, *args)\u001b[39m\n\u001b[32m    495\u001b[39m func = \u001b[38;5;28mgetattr\u001b[39m(handler, meth_name)\n\u001b[32m--> \u001b[39m\u001b[32m496\u001b[39m result = func(*args)\n\u001b[32m    497\u001b[39m \u001b[38;5;28;01mif\u001b[39;00m result \u001b[38;5;129;01mis\u001b[39;00m \u001b[38;5;129;01mnot\u001b[39;00m \u001b[38;5;28;01mNone\u001b[39;00m:\n",
      "\u001b[36mFile \u001b[39m\u001b[32m~\\anaconda3\\envs\\econ_trend\\Lib\\urllib\\request.py:643\u001b[39m, in \u001b[36mHTTPDefaultErrorHandler.http_error_default\u001b[39m\u001b[34m(self, req, fp, code, msg, hdrs)\u001b[39m\n\u001b[32m    642\u001b[39m \u001b[38;5;28;01mdef\u001b[39;00m\u001b[38;5;250m \u001b[39m\u001b[34mhttp_error_default\u001b[39m(\u001b[38;5;28mself\u001b[39m, req, fp, code, msg, hdrs):\n\u001b[32m--> \u001b[39m\u001b[32m643\u001b[39m     \u001b[38;5;28;01mraise\u001b[39;00m HTTPError(req.full_url, code, msg, hdrs, fp)\n",
      "\u001b[31mHTTPError\u001b[39m: HTTP Error 400: Bad Request",
      "\nDuring handling of the above exception, another exception occurred:\n",
      "\u001b[31mValueError\u001b[39m                                Traceback (most recent call last)",
      "\u001b[36mCell\u001b[39m\u001b[36m \u001b[39m\u001b[32mIn[1]\u001b[39m\u001b[32m, line 9\u001b[39m\n\u001b[32m      6\u001b[39m fred = Fred(api_key=\u001b[33m'\u001b[39m\u001b[33myour_api_key_here\u001b[39m\u001b[33m'\u001b[39m)  \u001b[38;5;66;03m# 🔁 Replace with your actual key\u001b[39;00m\n\u001b[32m      8\u001b[39m \u001b[38;5;66;03m# Step 2: Download CPI (All Urban Consumers)\u001b[39;00m\n\u001b[32m----> \u001b[39m\u001b[32m9\u001b[39m cpi = fred.get_series(\u001b[33m'\u001b[39m\u001b[33mCPIAUCNS\u001b[39m\u001b[33m'\u001b[39m)  \u001b[38;5;66;03m# CPI, monthly, not seasonally adjusted\u001b[39;00m\n\u001b[32m     11\u001b[39m \u001b[38;5;66;03m# Step 3: Resample to monthly (just to be safe) and compute YoY % change\u001b[39;00m\n\u001b[32m     12\u001b[39m cpi = cpi.resample(\u001b[33m'\u001b[39m\u001b[33mM\u001b[39m\u001b[33m'\u001b[39m).last()  \u001b[38;5;66;03m# Ensure monthly end-of-month frequency\u001b[39;00m\n",
      "\u001b[36mFile \u001b[39m\u001b[32m~\\anaconda3\\envs\\econ_trend\\Lib\\site-packages\\fredapi\\fred.py:151\u001b[39m, in \u001b[36mFred.get_series\u001b[39m\u001b[34m(self, series_id, observation_start, observation_end, **kwargs)\u001b[39m\n\u001b[32m    149\u001b[39m \u001b[38;5;28;01mif\u001b[39;00m kwargs.keys():\n\u001b[32m    150\u001b[39m     url += \u001b[33m'\u001b[39m\u001b[33m&\u001b[39m\u001b[33m'\u001b[39m + urlencode(kwargs)\n\u001b[32m--> \u001b[39m\u001b[32m151\u001b[39m root = \u001b[38;5;28mself\u001b[39m.__fetch_data(url)\n\u001b[32m    152\u001b[39m \u001b[38;5;28;01mif\u001b[39;00m root \u001b[38;5;129;01mis\u001b[39;00m \u001b[38;5;28;01mNone\u001b[39;00m:\n\u001b[32m    153\u001b[39m     \u001b[38;5;28;01mraise\u001b[39;00m \u001b[38;5;167;01mValueError\u001b[39;00m(\u001b[33m'\u001b[39m\u001b[33mNo data exists for series id: \u001b[39m\u001b[33m'\u001b[39m + series_id)\n",
      "\u001b[36mFile \u001b[39m\u001b[32m~\\anaconda3\\envs\\econ_trend\\Lib\\site-packages\\fredapi\\fred.py:88\u001b[39m, in \u001b[36mFred.__fetch_data\u001b[39m\u001b[34m(self, url)\u001b[39m\n\u001b[32m     86\u001b[39m \u001b[38;5;28;01mexcept\u001b[39;00m HTTPError \u001b[38;5;28;01mas\u001b[39;00m exc:\n\u001b[32m     87\u001b[39m     root = ET.fromstring(exc.read())\n\u001b[32m---> \u001b[39m\u001b[32m88\u001b[39m     \u001b[38;5;28;01mraise\u001b[39;00m \u001b[38;5;167;01mValueError\u001b[39;00m(root.get(\u001b[33m'\u001b[39m\u001b[33mmessage\u001b[39m\u001b[33m'\u001b[39m))\n\u001b[32m     89\u001b[39m \u001b[38;5;28;01mreturn\u001b[39;00m root\n",
      "\u001b[31mValueError\u001b[39m: Bad Request.  The value for variable api_key is not a 32 character alpha-numeric lower-case string.  Read https://fred.stlouisfed.org/docs/api/api_key.html for more information."
     ]
    }
   ],
   "source": [
    "from fredapi import Fred\n",
    "import pandas as pd\n",
    "import matplotlib.pyplot as plt\n",
    "\n",
    "# Step 1: Connect to FRED\n",
    "fred = Fred(api_key='e916710d165717e6348556cdce8111f3')  # 🔁 Replace with your actual key\n",
    "\n",
    "# Step 2: Download CPI (All Urban Consumers)\n",
    "cpi = fred.get_series('CPIAUCNS')  # CPI, monthly, not seasonally adjusted\n",
    "\n",
    "# Step 3: Resample to monthly (just to be safe) and compute YoY % change\n",
    "cpi = cpi.resample('M').last()  # Ensure monthly end-of-month frequency\n",
    "cpi_yoy = cpi.pct_change(12) * 100  # Year-over-year % change\n",
    "\n",
    "# Step 4: Plot it\n",
    "cpi_yoy.plot(title='YoY % Change in CPI (FRED: CPIAUCNS)', figsize=(10, 5))\n",
    "plt.ylabel('%')\n",
    "plt.grid(True)\n",
    "plt.show()\n",
    "\n",
    "# Optional: Save to CSV\n",
    "cpi_yoy.to_csv('cpi_yoy_percent.csv', header=['CPI_YoY'])\n"
   ]
  },
  {
   "cell_type": "code",
   "execution_count": null,
   "id": "8aeac113-deec-4a3c-abf1-4da85c81e351",
   "metadata": {},
   "outputs": [],
   "source": []
  }
 ],
 "metadata": {
  "kernelspec": {
   "display_name": "Python 3 (ipykernel)",
   "language": "python",
   "name": "python3"
  },
  "language_info": {
   "codemirror_mode": {
    "name": "ipython",
    "version": 3
   },
   "file_extension": ".py",
   "mimetype": "text/x-python",
   "name": "python",
   "nbconvert_exporter": "python",
   "pygments_lexer": "ipython3",
   "version": "3.11.11"
  }
 },
 "nbformat": 4,
 "nbformat_minor": 5
}
