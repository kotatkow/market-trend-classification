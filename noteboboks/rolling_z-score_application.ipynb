{
 "cells": [
  {
   "cell_type": "code",
   "execution_count": null,
   "id": "07777951-3f23-4385-a246-6046eeba7a7d",
   "metadata": {},
   "outputs": [],
   "source": [
    "import pandas as pd\n",
    "import matplotlib.pyplot as plt\n",
    "\n",
    "# Load CPI_YoY from the correct directory\n",
    "file_path = r'C:\\Users\\ghkjs\\GitHub\\regime-shift-classification\\data\\processed\\cpi_yoy_percent.csv'\n",
    "cpi_yoy = pd.read_csv(file_path, index_col=0, parse_dates=True)\n",
    "cpi_yoy = cpi_yoy.rename(columns={'CPI_YoY': 'CPI_YoY'})  # redundant but safe\n",
    "\n",
    "# Compute rolling statistics (5 years = 60 months)\n",
    "rolling_mean = cpi_yoy['CPI_YoY'].rolling(window=60).mean()\n",
    "rolling_std = cpi_yoy['CPI_YoY'].rolling(window=60).std()\n",
    "\n",
    "# Compute Z-score\n",
    "zscore = (cpi_yoy['CPI_YoY'] - rolling_mean) / rolling_std\n",
    "\n",
    "# Create regime label: 1 = High Inflation, 0 = Low Inflation\n",
    "cpi_yoy['Zscore'] = zscore\n",
    "cpi_yoy['Inflation_Regime'] = (zscore > 1.0).astype(int)\n",
    "\n",
    "# Visualize\n",
    "fig, ax = plt.subplots(figsize=(12, 6))\n",
    "cpi_yoy['CPI_YoY'].plot(ax=ax, label='CPI YoY (%)')\n",
    "cpi_yoy['Inflation_Regime'].apply(lambda x: 100 if x == 1 else None).plot(ax=ax, style='r.', label='High Inflation Regime')\n",
    "plt.title('Inflation Regime Classification Based on Rolling Z-score')\n",
    "plt.legend()\n",
    "plt.grid(True)\n",
    "plt.show()\n",
    "\n",
    "# Optional: Save labeled data\n",
    "cpi_yoy.to_csv(r'C:\\Users\\ghkjs\\GitHub\\regime-shift-classification\\data\\processed\\cpi_labeled_regimes.csv')\n"
   ]
  },
  {
   "cell_type": "code",
   "execution_count": null,
   "id": "dcdba1a8-a38c-4cf2-9b10-be255c766592",
   "metadata": {},
   "outputs": [],
   "source": []
  }
 ],
 "metadata": {
  "kernelspec": {
   "display_name": "Python 3 (ipykernel)",
   "language": "python",
   "name": "python3"
  },
  "language_info": {
   "codemirror_mode": {
    "name": "ipython",
    "version": 3
   },
   "file_extension": ".py",
   "mimetype": "text/x-python",
   "name": "python",
   "nbconvert_exporter": "python",
   "pygments_lexer": "ipython3",
   "version": "3.11.11"
  }
 },
 "nbformat": 4,
 "nbformat_minor": 5
}
